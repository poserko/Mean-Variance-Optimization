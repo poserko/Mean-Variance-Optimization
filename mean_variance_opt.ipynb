{
  "nbformat": 4,
  "nbformat_minor": 0,
  "metadata": {
    "colab": {
      "name": "mean_variance_opt.ipynb",
      "provenance": [],
      "collapsed_sections": []
    },
    "kernelspec": {
      "name": "python3",
      "display_name": "Python 3"
    },
    "language_info": {
      "name": "python"
    }
  },
  "cells": [
    {
      "cell_type": "code",
      "metadata": {
        "id": "v4OOvll6zY4m"
      },
      "source": [
        "import pandas as pd\n",
        "from datetime import date, timedelta\n",
        "import yfinance as yf\n",
        "import matplotlib.pyplot as plt\n",
        "import numpy as np\n",
        "import matplotlib.pyplot as plt\n",
        "\n",
        "kapital = 10000\n",
        "simulations = 5000\n",
        "hist=40\n",
        "\n",
        "start_date = date.today() - timedelta(days=200)\n",
        "end_date = date.today() - timedelta(days=1)"
      ],
      "execution_count": 1,
      "outputs": []
    },
    {
      "cell_type": "code",
      "metadata": {
        "colab": {
          "base_uri": "https://localhost:8080/"
        },
        "id": "_145bN8wzpdu",
        "outputId": "4346f830-7386-43e7-c098-b56e4eaede25"
      },
      "source": [
        "pip install yfinance\n"
      ],
      "execution_count": 2,
      "outputs": [
        {
          "output_type": "stream",
          "name": "stdout",
          "text": [
            "Requirement already satisfied: yfinance in /usr/local/lib/python3.7/dist-packages (0.1.64)\n",
            "Requirement already satisfied: multitasking>=0.0.7 in /usr/local/lib/python3.7/dist-packages (from yfinance) (0.0.9)\n",
            "Requirement already satisfied: pandas>=0.24 in /usr/local/lib/python3.7/dist-packages (from yfinance) (1.1.5)\n",
            "Requirement already satisfied: lxml>=4.5.1 in /usr/local/lib/python3.7/dist-packages (from yfinance) (4.6.3)\n",
            "Requirement already satisfied: numpy>=1.15 in /usr/local/lib/python3.7/dist-packages (from yfinance) (1.19.5)\n",
            "Requirement already satisfied: requests>=2.20 in /usr/local/lib/python3.7/dist-packages (from yfinance) (2.23.0)\n",
            "Requirement already satisfied: python-dateutil>=2.7.3 in /usr/local/lib/python3.7/dist-packages (from pandas>=0.24->yfinance) (2.8.2)\n",
            "Requirement already satisfied: pytz>=2017.2 in /usr/local/lib/python3.7/dist-packages (from pandas>=0.24->yfinance) (2018.9)\n",
            "Requirement already satisfied: six>=1.5 in /usr/local/lib/python3.7/dist-packages (from python-dateutil>=2.7.3->pandas>=0.24->yfinance) (1.15.0)\n",
            "Requirement already satisfied: certifi>=2017.4.17 in /usr/local/lib/python3.7/dist-packages (from requests>=2.20->yfinance) (2021.5.30)\n",
            "Requirement already satisfied: idna<3,>=2.5 in /usr/local/lib/python3.7/dist-packages (from requests>=2.20->yfinance) (2.10)\n",
            "Requirement already satisfied: chardet<4,>=3.0.2 in /usr/local/lib/python3.7/dist-packages (from requests>=2.20->yfinance) (3.0.4)\n",
            "Requirement already satisfied: urllib3!=1.25.0,!=1.25.1,<1.26,>=1.21.1 in /usr/local/lib/python3.7/dist-packages (from requests>=2.20->yfinance) (1.24.3)\n"
          ]
        }
      ]
    },
    {
      "cell_type": "code",
      "metadata": {
        "colab": {
          "base_uri": "https://localhost:8080/"
        },
        "id": "D7mHTaHw1Jwz",
        "outputId": "981756a8-7c6a-42c9-d448-e2c934d3082e"
      },
      "source": [
        "tickets = ['spy','amzn','baba','aapl','tsla','nio']\n",
        "\n",
        "\n",
        "data = yf.download(tickets, start = start_date, end = end_date)"
      ],
      "execution_count": 3,
      "outputs": [
        {
          "output_type": "stream",
          "name": "stdout",
          "text": [
            "[*********************100%***********************]  6 of 6 completed\n"
          ]
        }
      ]
    },
    {
      "cell_type": "code",
      "metadata": {
        "id": "TgOsFIk90avK"
      },
      "source": [
        "close_price = data['Close']\n"
      ],
      "execution_count": 4,
      "outputs": []
    },
    {
      "cell_type": "code",
      "metadata": {
        "colab": {
          "base_uri": "https://localhost:8080/",
          "height": 447
        },
        "id": "LJyvBNPQ3UXz",
        "outputId": "f6a8b04d-2708-4143-b62a-b06d565ec500"
      },
      "source": [
        "close_price"
      ],
      "execution_count": 5,
      "outputs": [
        {
          "output_type": "execute_result",
          "data": {
            "text/html": [
              "<div>\n",
              "<style scoped>\n",
              "    .dataframe tbody tr th:only-of-type {\n",
              "        vertical-align: middle;\n",
              "    }\n",
              "\n",
              "    .dataframe tbody tr th {\n",
              "        vertical-align: top;\n",
              "    }\n",
              "\n",
              "    .dataframe thead th {\n",
              "        text-align: right;\n",
              "    }\n",
              "</style>\n",
              "<table border=\"1\" class=\"dataframe\">\n",
              "  <thead>\n",
              "    <tr style=\"text-align: right;\">\n",
              "      <th></th>\n",
              "      <th>AAPL</th>\n",
              "      <th>AMZN</th>\n",
              "      <th>BABA</th>\n",
              "      <th>NIO</th>\n",
              "      <th>SPY</th>\n",
              "      <th>TSLA</th>\n",
              "    </tr>\n",
              "    <tr>\n",
              "      <th>Date</th>\n",
              "      <th></th>\n",
              "      <th></th>\n",
              "      <th></th>\n",
              "      <th></th>\n",
              "      <th></th>\n",
              "      <th></th>\n",
              "    </tr>\n",
              "  </thead>\n",
              "  <tbody>\n",
              "    <tr>\n",
              "      <th>2021-04-06</th>\n",
              "      <td>126.209999</td>\n",
              "      <td>3223.820068</td>\n",
              "      <td>230.570007</td>\n",
              "      <td>40.000000</td>\n",
              "      <td>406.119995</td>\n",
              "      <td>691.619995</td>\n",
              "    </tr>\n",
              "    <tr>\n",
              "      <th>2021-04-07</th>\n",
              "      <td>127.900002</td>\n",
              "      <td>3279.389893</td>\n",
              "      <td>225.419998</td>\n",
              "      <td>37.270000</td>\n",
              "      <td>406.589996</td>\n",
              "      <td>670.969971</td>\n",
              "    </tr>\n",
              "    <tr>\n",
              "      <th>2021-04-08</th>\n",
              "      <td>130.360001</td>\n",
              "      <td>3299.300049</td>\n",
              "      <td>228.240005</td>\n",
              "      <td>38.700001</td>\n",
              "      <td>408.519989</td>\n",
              "      <td>683.799988</td>\n",
              "    </tr>\n",
              "    <tr>\n",
              "      <th>2021-04-09</th>\n",
              "      <td>133.000000</td>\n",
              "      <td>3372.199951</td>\n",
              "      <td>223.309998</td>\n",
              "      <td>38.119999</td>\n",
              "      <td>411.489990</td>\n",
              "      <td>677.020020</td>\n",
              "    </tr>\n",
              "    <tr>\n",
              "      <th>2021-04-12</th>\n",
              "      <td>131.240005</td>\n",
              "      <td>3379.389893</td>\n",
              "      <td>244.009995</td>\n",
              "      <td>37.139999</td>\n",
              "      <td>411.640015</td>\n",
              "      <td>701.979980</td>\n",
              "    </tr>\n",
              "    <tr>\n",
              "      <th>...</th>\n",
              "      <td>...</td>\n",
              "      <td>...</td>\n",
              "      <td>...</td>\n",
              "      <td>...</td>\n",
              "      <td>...</td>\n",
              "      <td>...</td>\n",
              "    </tr>\n",
              "    <tr>\n",
              "      <th>2021-10-15</th>\n",
              "      <td>144.839996</td>\n",
              "      <td>3409.020020</td>\n",
              "      <td>168.000000</td>\n",
              "      <td>37.709999</td>\n",
              "      <td>445.869995</td>\n",
              "      <td>843.030029</td>\n",
              "    </tr>\n",
              "    <tr>\n",
              "      <th>2021-10-18</th>\n",
              "      <td>146.550003</td>\n",
              "      <td>3446.739990</td>\n",
              "      <td>166.820007</td>\n",
              "      <td>39.610001</td>\n",
              "      <td>447.190002</td>\n",
              "      <td>870.109985</td>\n",
              "    </tr>\n",
              "    <tr>\n",
              "      <th>2021-10-19</th>\n",
              "      <td>148.759995</td>\n",
              "      <td>3444.149902</td>\n",
              "      <td>177.000000</td>\n",
              "      <td>40.029999</td>\n",
              "      <td>450.640015</td>\n",
              "      <td>864.270020</td>\n",
              "    </tr>\n",
              "    <tr>\n",
              "      <th>2021-10-20</th>\n",
              "      <td>149.259995</td>\n",
              "      <td>3415.060059</td>\n",
              "      <td>177.179993</td>\n",
              "      <td>39.779999</td>\n",
              "      <td>452.410004</td>\n",
              "      <td>865.799988</td>\n",
              "    </tr>\n",
              "    <tr>\n",
              "      <th>2021-10-21</th>\n",
              "      <td>149.479996</td>\n",
              "      <td>3435.010010</td>\n",
              "      <td>177.419998</td>\n",
              "      <td>39.970001</td>\n",
              "      <td>453.589996</td>\n",
              "      <td>894.000000</td>\n",
              "    </tr>\n",
              "  </tbody>\n",
              "</table>\n",
              "<p>140 rows × 6 columns</p>\n",
              "</div>"
            ],
            "text/plain": [
              "                  AAPL         AMZN  ...         SPY        TSLA\n",
              "Date                                 ...                        \n",
              "2021-04-06  126.209999  3223.820068  ...  406.119995  691.619995\n",
              "2021-04-07  127.900002  3279.389893  ...  406.589996  670.969971\n",
              "2021-04-08  130.360001  3299.300049  ...  408.519989  683.799988\n",
              "2021-04-09  133.000000  3372.199951  ...  411.489990  677.020020\n",
              "2021-04-12  131.240005  3379.389893  ...  411.640015  701.979980\n",
              "...                ...          ...  ...         ...         ...\n",
              "2021-10-15  144.839996  3409.020020  ...  445.869995  843.030029\n",
              "2021-10-18  146.550003  3446.739990  ...  447.190002  870.109985\n",
              "2021-10-19  148.759995  3444.149902  ...  450.640015  864.270020\n",
              "2021-10-20  149.259995  3415.060059  ...  452.410004  865.799988\n",
              "2021-10-21  149.479996  3435.010010  ...  453.589996  894.000000\n",
              "\n",
              "[140 rows x 6 columns]"
            ]
          },
          "metadata": {},
          "execution_count": 5
        }
      ]
    },
    {
      "cell_type": "code",
      "metadata": {
        "colab": {
          "base_uri": "https://localhost:8080/",
          "height": 1000
        },
        "id": "UX7mk0gg35FD",
        "outputId": "472ede19-2d39-4a50-a516-61843e241119"
      },
      "source": [
        "log_returns = np.log(data['Close']/data['Close'].shift(1)).dropna().tail(hist)\n",
        "log_returns"
      ],
      "execution_count": 6,
      "outputs": [
        {
          "output_type": "execute_result",
          "data": {
            "text/html": [
              "<div>\n",
              "<style scoped>\n",
              "    .dataframe tbody tr th:only-of-type {\n",
              "        vertical-align: middle;\n",
              "    }\n",
              "\n",
              "    .dataframe tbody tr th {\n",
              "        vertical-align: top;\n",
              "    }\n",
              "\n",
              "    .dataframe thead th {\n",
              "        text-align: right;\n",
              "    }\n",
              "</style>\n",
              "<table border=\"1\" class=\"dataframe\">\n",
              "  <thead>\n",
              "    <tr style=\"text-align: right;\">\n",
              "      <th></th>\n",
              "      <th>AAPL</th>\n",
              "      <th>AMZN</th>\n",
              "      <th>BABA</th>\n",
              "      <th>NIO</th>\n",
              "      <th>SPY</th>\n",
              "      <th>TSLA</th>\n",
              "    </tr>\n",
              "    <tr>\n",
              "      <th>Date</th>\n",
              "      <th></th>\n",
              "      <th></th>\n",
              "      <th></th>\n",
              "      <th></th>\n",
              "      <th></th>\n",
              "      <th></th>\n",
              "    </tr>\n",
              "  </thead>\n",
              "  <tbody>\n",
              "    <tr>\n",
              "      <th>2021-08-26</th>\n",
              "      <td>-0.005542</td>\n",
              "      <td>0.005085</td>\n",
              "      <td>-0.023091</td>\n",
              "      <td>-0.017874</td>\n",
              "      <td>-0.005921</td>\n",
              "      <td>-0.014218</td>\n",
              "    </tr>\n",
              "    <tr>\n",
              "      <th>2021-08-27</th>\n",
              "      <td>0.007159</td>\n",
              "      <td>0.010091</td>\n",
              "      <td>-0.035543</td>\n",
              "      <td>-0.005504</td>\n",
              "      <td>0.008901</td>\n",
              "      <td>0.015229</td>\n",
              "    </tr>\n",
              "    <tr>\n",
              "      <th>2021-08-30</th>\n",
              "      <td>0.029964</td>\n",
              "      <td>0.021250</td>\n",
              "      <td>0.017529</td>\n",
              "      <td>-0.006592</td>\n",
              "      <td>0.004388</td>\n",
              "      <td>0.026325</td>\n",
              "    </tr>\n",
              "    <tr>\n",
              "      <th>2021-08-31</th>\n",
              "      <td>-0.008460</td>\n",
              "      <td>0.014283</td>\n",
              "      <td>0.028549</td>\n",
              "      <td>0.039170</td>\n",
              "      <td>-0.001483</td>\n",
              "      <td>0.006559</td>\n",
              "    </tr>\n",
              "    <tr>\n",
              "      <th>2021-09-01</th>\n",
              "      <td>0.004469</td>\n",
              "      <td>0.002363</td>\n",
              "      <td>0.036975</td>\n",
              "      <td>-0.005868</td>\n",
              "      <td>0.000531</td>\n",
              "      <td>-0.002218</td>\n",
              "    </tr>\n",
              "    <tr>\n",
              "      <th>2021-09-02</th>\n",
              "      <td>0.007447</td>\n",
              "      <td>-0.004575</td>\n",
              "      <td>-0.007414</td>\n",
              "      <td>0.031980</td>\n",
              "      <td>0.003072</td>\n",
              "      <td>-0.002318</td>\n",
              "    </tr>\n",
              "    <tr>\n",
              "      <th>2021-09-03</th>\n",
              "      <td>0.004222</td>\n",
              "      <td>0.004302</td>\n",
              "      <td>-0.009933</td>\n",
              "      <td>0.000496</td>\n",
              "      <td>-0.000243</td>\n",
              "      <td>0.001610</td>\n",
              "    </tr>\n",
              "    <tr>\n",
              "      <th>2021-09-07</th>\n",
              "      <td>0.015371</td>\n",
              "      <td>0.008942</td>\n",
              "      <td>0.028138</td>\n",
              "      <td>0.005435</td>\n",
              "      <td>-0.003582</td>\n",
              "      <td>0.026036</td>\n",
              "    </tr>\n",
              "    <tr>\n",
              "      <th>2021-09-08</th>\n",
              "      <td>-0.010135</td>\n",
              "      <td>0.004609</td>\n",
              "      <td>-0.025734</td>\n",
              "      <td>-0.062258</td>\n",
              "      <td>-0.001219</td>\n",
              "      <td>0.001261</td>\n",
              "    </tr>\n",
              "    <tr>\n",
              "      <th>2021-09-09</th>\n",
              "      <td>-0.006727</td>\n",
              "      <td>-0.011795</td>\n",
              "      <td>-0.020058</td>\n",
              "      <td>0.008095</td>\n",
              "      <td>-0.004289</td>\n",
              "      <td>0.001312</td>\n",
              "    </tr>\n",
              "    <tr>\n",
              "      <th>2021-09-10</th>\n",
              "      <td>-0.033662</td>\n",
              "      <td>-0.004317</td>\n",
              "      <td>0.004651</td>\n",
              "      <td>-0.012299</td>\n",
              "      <td>-0.007916</td>\n",
              "      <td>-0.024935</td>\n",
              "    </tr>\n",
              "    <tr>\n",
              "      <th>2021-09-13</th>\n",
              "      <td>0.003886</td>\n",
              "      <td>-0.003459</td>\n",
              "      <td>-0.016132</td>\n",
              "      <td>0.010737</td>\n",
              "      <td>0.002556</td>\n",
              "      <td>0.009099</td>\n",
              "    </tr>\n",
              "    <tr>\n",
              "      <th>2021-09-14</th>\n",
              "      <td>-0.009608</td>\n",
              "      <td>-0.002076</td>\n",
              "      <td>-0.032316</td>\n",
              "      <td>-0.013110</td>\n",
              "      <td>-0.005411</td>\n",
              "      <td>0.002003</td>\n",
              "    </tr>\n",
              "    <tr>\n",
              "      <th>2021-09-15</th>\n",
              "      <td>0.006125</td>\n",
              "      <td>0.007448</td>\n",
              "      <td>-0.014402</td>\n",
              "      <td>0.003688</td>\n",
              "      <td>0.008318</td>\n",
              "      <td>0.015117</td>\n",
              "    </tr>\n",
              "    <tr>\n",
              "      <th>2021-09-16</th>\n",
              "      <td>-0.001612</td>\n",
              "      <td>0.003576</td>\n",
              "      <td>-0.010187</td>\n",
              "      <td>-0.025028</td>\n",
              "      <td>-0.001586</td>\n",
              "      <td>0.001534</td>\n",
              "    </tr>\n",
              "    <tr>\n",
              "      <th>2021-09-17</th>\n",
              "      <td>-0.018518</td>\n",
              "      <td>-0.007401</td>\n",
              "      <td>0.023965</td>\n",
              "      <td>0.011260</td>\n",
              "      <td>-0.012987</td>\n",
              "      <td>0.003297</td>\n",
              "    </tr>\n",
              "    <tr>\n",
              "      <th>2021-09-20</th>\n",
              "      <td>-0.021593</td>\n",
              "      <td>-0.031327</td>\n",
              "      <td>-0.054967</td>\n",
              "      <td>-0.064414</td>\n",
              "      <td>-0.016815</td>\n",
              "      <td>-0.039370</td>\n",
              "    </tr>\n",
              "    <tr>\n",
              "      <th>2021-09-21</th>\n",
              "      <td>0.003422</td>\n",
              "      <td>-0.003612</td>\n",
              "      <td>-0.008685</td>\n",
              "      <td>-0.007707</td>\n",
              "      <td>-0.000945</td>\n",
              "      <td>0.012535</td>\n",
              "    </tr>\n",
              "    <tr>\n",
              "      <th>2021-09-22</th>\n",
              "      <td>0.016732</td>\n",
              "      <td>0.010834</td>\n",
              "      <td>0.011322</td>\n",
              "      <td>0.022664</td>\n",
              "      <td>0.009708</td>\n",
              "      <td>0.016845</td>\n",
              "    </tr>\n",
              "    <tr>\n",
              "      <th>2021-09-23</th>\n",
              "      <td>0.006697</td>\n",
              "      <td>0.010580</td>\n",
              "      <td>-0.004619</td>\n",
              "      <td>0.008646</td>\n",
              "      <td>0.012077</td>\n",
              "      <td>0.002258</td>\n",
              "    </tr>\n",
              "    <tr>\n",
              "      <th>2021-09-24</th>\n",
              "      <td>0.000613</td>\n",
              "      <td>0.002783</td>\n",
              "      <td>-0.041252</td>\n",
              "      <td>-0.017650</td>\n",
              "      <td>0.001646</td>\n",
              "      <td>0.027161</td>\n",
              "    </tr>\n",
              "    <tr>\n",
              "      <th>2021-09-27</th>\n",
              "      <td>-0.010606</td>\n",
              "      <td>-0.005773</td>\n",
              "      <td>0.034549</td>\n",
              "      <td>0.038536</td>\n",
              "      <td>-0.002865</td>\n",
              "      <td>0.021677</td>\n",
              "    </tr>\n",
              "    <tr>\n",
              "      <th>2021-09-28</th>\n",
              "      <td>-0.024089</td>\n",
              "      <td>-0.026733</td>\n",
              "      <td>0.014608</td>\n",
              "      <td>-0.047907</td>\n",
              "      <td>-0.020358</td>\n",
              "      <td>-0.017592</td>\n",
              "    </tr>\n",
              "    <tr>\n",
              "      <th>2021-09-29</th>\n",
              "      <td>0.006462</td>\n",
              "      <td>-0.004485</td>\n",
              "      <td>-0.032073</td>\n",
              "      <td>0.002280</td>\n",
              "      <td>0.001682</td>\n",
              "      <td>0.004811</td>\n",
              "    </tr>\n",
              "    <tr>\n",
              "      <th>2021-09-30</th>\n",
              "      <td>-0.009355</td>\n",
              "      <td>-0.004883</td>\n",
              "      <td>0.003180</td>\n",
              "      <td>0.014133</td>\n",
              "      <td>-0.012298</td>\n",
              "      <td>-0.007490</td>\n",
              "    </tr>\n",
              "    <tr>\n",
              "      <th>2021-10-01</th>\n",
              "      <td>0.008094</td>\n",
              "      <td>-0.000542</td>\n",
              "      <td>-0.026349</td>\n",
              "      <td>-0.007041</td>\n",
              "      <td>0.011814</td>\n",
              "      <td>-0.000335</td>\n",
              "    </tr>\n",
              "    <tr>\n",
              "      <th>2021-10-04</th>\n",
              "      <td>-0.024913</td>\n",
              "      <td>-0.028885</td>\n",
              "      <td>-0.032205</td>\n",
              "      <td>-0.057591</td>\n",
              "      <td>-0.012980</td>\n",
              "      <td>0.008107</td>\n",
              "    </tr>\n",
              "    <tr>\n",
              "      <th>2021-10-05</th>\n",
              "      <td>0.014059</td>\n",
              "      <td>0.009740</td>\n",
              "      <td>0.024827</td>\n",
              "      <td>0.013974</td>\n",
              "      <td>0.010351</td>\n",
              "      <td>-0.001203</td>\n",
              "    </tr>\n",
              "    <tr>\n",
              "      <th>2021-10-06</th>\n",
              "      <td>0.006287</td>\n",
              "      <td>0.012652</td>\n",
              "      <td>0.006684</td>\n",
              "      <td>-0.006219</td>\n",
              "      <td>0.004147</td>\n",
              "      <td>0.002763</td>\n",
              "    </tr>\n",
              "    <tr>\n",
              "      <th>2021-10-07</th>\n",
              "      <td>0.009043</td>\n",
              "      <td>0.012315</td>\n",
              "      <td>0.079348</td>\n",
              "      <td>0.066931</td>\n",
              "      <td>0.008609</td>\n",
              "      <td>0.013779</td>\n",
              "    </tr>\n",
              "    <tr>\n",
              "      <th>2021-10-08</th>\n",
              "      <td>-0.002725</td>\n",
              "      <td>-0.004190</td>\n",
              "      <td>0.034773</td>\n",
              "      <td>-0.004456</td>\n",
              "      <td>-0.001825</td>\n",
              "      <td>-0.010284</td>\n",
              "    </tr>\n",
              "    <tr>\n",
              "      <th>2021-10-11</th>\n",
              "      <td>-0.000630</td>\n",
              "      <td>-0.012952</td>\n",
              "      <td>0.014932</td>\n",
              "      <td>-0.005317</td>\n",
              "      <td>-0.007266</td>\n",
              "      <td>0.008178</td>\n",
              "    </tr>\n",
              "    <tr>\n",
              "      <th>2021-10-12</th>\n",
              "      <td>-0.009145</td>\n",
              "      <td>0.000317</td>\n",
              "      <td>-0.005811</td>\n",
              "      <td>-0.003654</td>\n",
              "      <td>-0.002465</td>\n",
              "      <td>0.017251</td>\n",
              "    </tr>\n",
              "    <tr>\n",
              "      <th>2021-10-13</th>\n",
              "      <td>-0.004249</td>\n",
              "      <td>0.011314</td>\n",
              "      <td>0.026636</td>\n",
              "      <td>0.020349</td>\n",
              "      <td>0.003591</td>\n",
              "      <td>0.006630</td>\n",
              "    </tr>\n",
              "    <tr>\n",
              "      <th>2021-10-14</th>\n",
              "      <td>0.020024</td>\n",
              "      <td>0.004733</td>\n",
              "      <td>-0.003711</td>\n",
              "      <td>0.001103</td>\n",
              "      <td>0.016681</td>\n",
              "      <td>0.008887</td>\n",
              "    </tr>\n",
              "    <tr>\n",
              "      <th>2021-10-15</th>\n",
              "      <td>0.007484</td>\n",
              "      <td>0.032545</td>\n",
              "      <td>0.007288</td>\n",
              "      <td>0.038659</td>\n",
              "      <td>0.007587</td>\n",
              "      <td>0.029749</td>\n",
              "    </tr>\n",
              "    <tr>\n",
              "      <th>2021-10-18</th>\n",
              "      <td>0.011737</td>\n",
              "      <td>0.011004</td>\n",
              "      <td>-0.007049</td>\n",
              "      <td>0.049156</td>\n",
              "      <td>0.002956</td>\n",
              "      <td>0.031617</td>\n",
              "    </tr>\n",
              "    <tr>\n",
              "      <th>2021-10-19</th>\n",
              "      <td>0.014968</td>\n",
              "      <td>-0.000752</td>\n",
              "      <td>0.059234</td>\n",
              "      <td>0.010548</td>\n",
              "      <td>0.007685</td>\n",
              "      <td>-0.006734</td>\n",
              "    </tr>\n",
              "    <tr>\n",
              "      <th>2021-10-20</th>\n",
              "      <td>0.003355</td>\n",
              "      <td>-0.008482</td>\n",
              "      <td>0.001016</td>\n",
              "      <td>-0.006265</td>\n",
              "      <td>0.003920</td>\n",
              "      <td>0.001769</td>\n",
              "    </tr>\n",
              "    <tr>\n",
              "      <th>2021-10-21</th>\n",
              "      <td>0.001473</td>\n",
              "      <td>0.005825</td>\n",
              "      <td>0.001354</td>\n",
              "      <td>0.004765</td>\n",
              "      <td>0.002605</td>\n",
              "      <td>0.032052</td>\n",
              "    </tr>\n",
              "  </tbody>\n",
              "</table>\n",
              "</div>"
            ],
            "text/plain": [
              "                AAPL      AMZN      BABA       NIO       SPY      TSLA\n",
              "Date                                                                  \n",
              "2021-08-26 -0.005542  0.005085 -0.023091 -0.017874 -0.005921 -0.014218\n",
              "2021-08-27  0.007159  0.010091 -0.035543 -0.005504  0.008901  0.015229\n",
              "2021-08-30  0.029964  0.021250  0.017529 -0.006592  0.004388  0.026325\n",
              "2021-08-31 -0.008460  0.014283  0.028549  0.039170 -0.001483  0.006559\n",
              "2021-09-01  0.004469  0.002363  0.036975 -0.005868  0.000531 -0.002218\n",
              "2021-09-02  0.007447 -0.004575 -0.007414  0.031980  0.003072 -0.002318\n",
              "2021-09-03  0.004222  0.004302 -0.009933  0.000496 -0.000243  0.001610\n",
              "2021-09-07  0.015371  0.008942  0.028138  0.005435 -0.003582  0.026036\n",
              "2021-09-08 -0.010135  0.004609 -0.025734 -0.062258 -0.001219  0.001261\n",
              "2021-09-09 -0.006727 -0.011795 -0.020058  0.008095 -0.004289  0.001312\n",
              "2021-09-10 -0.033662 -0.004317  0.004651 -0.012299 -0.007916 -0.024935\n",
              "2021-09-13  0.003886 -0.003459 -0.016132  0.010737  0.002556  0.009099\n",
              "2021-09-14 -0.009608 -0.002076 -0.032316 -0.013110 -0.005411  0.002003\n",
              "2021-09-15  0.006125  0.007448 -0.014402  0.003688  0.008318  0.015117\n",
              "2021-09-16 -0.001612  0.003576 -0.010187 -0.025028 -0.001586  0.001534\n",
              "2021-09-17 -0.018518 -0.007401  0.023965  0.011260 -0.012987  0.003297\n",
              "2021-09-20 -0.021593 -0.031327 -0.054967 -0.064414 -0.016815 -0.039370\n",
              "2021-09-21  0.003422 -0.003612 -0.008685 -0.007707 -0.000945  0.012535\n",
              "2021-09-22  0.016732  0.010834  0.011322  0.022664  0.009708  0.016845\n",
              "2021-09-23  0.006697  0.010580 -0.004619  0.008646  0.012077  0.002258\n",
              "2021-09-24  0.000613  0.002783 -0.041252 -0.017650  0.001646  0.027161\n",
              "2021-09-27 -0.010606 -0.005773  0.034549  0.038536 -0.002865  0.021677\n",
              "2021-09-28 -0.024089 -0.026733  0.014608 -0.047907 -0.020358 -0.017592\n",
              "2021-09-29  0.006462 -0.004485 -0.032073  0.002280  0.001682  0.004811\n",
              "2021-09-30 -0.009355 -0.004883  0.003180  0.014133 -0.012298 -0.007490\n",
              "2021-10-01  0.008094 -0.000542 -0.026349 -0.007041  0.011814 -0.000335\n",
              "2021-10-04 -0.024913 -0.028885 -0.032205 -0.057591 -0.012980  0.008107\n",
              "2021-10-05  0.014059  0.009740  0.024827  0.013974  0.010351 -0.001203\n",
              "2021-10-06  0.006287  0.012652  0.006684 -0.006219  0.004147  0.002763\n",
              "2021-10-07  0.009043  0.012315  0.079348  0.066931  0.008609  0.013779\n",
              "2021-10-08 -0.002725 -0.004190  0.034773 -0.004456 -0.001825 -0.010284\n",
              "2021-10-11 -0.000630 -0.012952  0.014932 -0.005317 -0.007266  0.008178\n",
              "2021-10-12 -0.009145  0.000317 -0.005811 -0.003654 -0.002465  0.017251\n",
              "2021-10-13 -0.004249  0.011314  0.026636  0.020349  0.003591  0.006630\n",
              "2021-10-14  0.020024  0.004733 -0.003711  0.001103  0.016681  0.008887\n",
              "2021-10-15  0.007484  0.032545  0.007288  0.038659  0.007587  0.029749\n",
              "2021-10-18  0.011737  0.011004 -0.007049  0.049156  0.002956  0.031617\n",
              "2021-10-19  0.014968 -0.000752  0.059234  0.010548  0.007685 -0.006734\n",
              "2021-10-20  0.003355 -0.008482  0.001016 -0.006265  0.003920  0.001769\n",
              "2021-10-21  0.001473  0.005825  0.001354  0.004765  0.002605  0.032052"
            ]
          },
          "metadata": {},
          "execution_count": 6
        }
      ]
    },
    {
      "cell_type": "code",
      "metadata": {
        "id": "KqZZufnW59my"
      },
      "source": [
        "mean = log_returns.mean()\n",
        "stdev = log_returns.std()\n",
        "covariance = log_returns.cov()"
      ],
      "execution_count": 7,
      "outputs": []
    },
    {
      "cell_type": "code",
      "metadata": {
        "colab": {
          "base_uri": "https://localhost:8080/"
        },
        "id": "eO5OOSf4vSmd",
        "outputId": "75d76863-ae28-485a-c326-e43b1d002e85"
      },
      "source": [
        "mean"
      ],
      "execution_count": 8,
      "outputs": [
        {
          "output_type": "execute_result",
          "data": {
            "text/plain": [
              "AAPL    0.000188\n",
              "AMZN    0.001009\n",
              "BABA    0.001201\n",
              "NIO     0.000646\n",
              "SPY     0.000259\n",
              "TSLA    0.005719\n",
              "dtype: float64"
            ]
          },
          "metadata": {},
          "execution_count": 8
        }
      ]
    },
    {
      "cell_type": "code",
      "metadata": {
        "colab": {
          "base_uri": "https://localhost:8080/"
        },
        "id": "JkkAn3MZrp6S",
        "outputId": "643f1c94-a71e-466a-fdd0-880454a1e29d"
      },
      "source": [
        "stdev"
      ],
      "execution_count": 9,
      "outputs": [
        {
          "output_type": "execute_result",
          "data": {
            "text/plain": [
              "AAPL    0.013130\n",
              "AMZN    0.012479\n",
              "BABA    0.027890\n",
              "NIO     0.027679\n",
              "SPY     0.008204\n",
              "TSLA    0.015121\n",
              "dtype: float64"
            ]
          },
          "metadata": {},
          "execution_count": 9
        }
      ]
    },
    {
      "cell_type": "code",
      "metadata": {
        "colab": {
          "base_uri": "https://localhost:8080/",
          "height": 234
        },
        "id": "euKWUekxrkA7",
        "outputId": "bb045c7e-b5b1-4a7b-d63a-befcf2582614"
      },
      "source": [
        "covariance"
      ],
      "execution_count": 10,
      "outputs": [
        {
          "output_type": "execute_result",
          "data": {
            "text/html": [
              "<div>\n",
              "<style scoped>\n",
              "    .dataframe tbody tr th:only-of-type {\n",
              "        vertical-align: middle;\n",
              "    }\n",
              "\n",
              "    .dataframe tbody tr th {\n",
              "        vertical-align: top;\n",
              "    }\n",
              "\n",
              "    .dataframe thead th {\n",
              "        text-align: right;\n",
              "    }\n",
              "</style>\n",
              "<table border=\"1\" class=\"dataframe\">\n",
              "  <thead>\n",
              "    <tr style=\"text-align: right;\">\n",
              "      <th></th>\n",
              "      <th>AAPL</th>\n",
              "      <th>AMZN</th>\n",
              "      <th>BABA</th>\n",
              "      <th>NIO</th>\n",
              "      <th>SPY</th>\n",
              "      <th>TSLA</th>\n",
              "    </tr>\n",
              "  </thead>\n",
              "  <tbody>\n",
              "    <tr>\n",
              "      <th>AAPL</th>\n",
              "      <td>0.000172</td>\n",
              "      <td>0.000106</td>\n",
              "      <td>0.000084</td>\n",
              "      <td>0.000164</td>\n",
              "      <td>0.000086</td>\n",
              "      <td>0.000105</td>\n",
              "    </tr>\n",
              "    <tr>\n",
              "      <th>AMZN</th>\n",
              "      <td>0.000106</td>\n",
              "      <td>0.000156</td>\n",
              "      <td>0.000104</td>\n",
              "      <td>0.000198</td>\n",
              "      <td>0.000072</td>\n",
              "      <td>0.000109</td>\n",
              "    </tr>\n",
              "    <tr>\n",
              "      <th>BABA</th>\n",
              "      <td>0.000084</td>\n",
              "      <td>0.000104</td>\n",
              "      <td>0.000778</td>\n",
              "      <td>0.000438</td>\n",
              "      <td>0.000036</td>\n",
              "      <td>0.000051</td>\n",
              "    </tr>\n",
              "    <tr>\n",
              "      <th>NIO</th>\n",
              "      <td>0.000164</td>\n",
              "      <td>0.000198</td>\n",
              "      <td>0.000438</td>\n",
              "      <td>0.000766</td>\n",
              "      <td>0.000110</td>\n",
              "      <td>0.000199</td>\n",
              "    </tr>\n",
              "    <tr>\n",
              "      <th>SPY</th>\n",
              "      <td>0.000086</td>\n",
              "      <td>0.000072</td>\n",
              "      <td>0.000036</td>\n",
              "      <td>0.000110</td>\n",
              "      <td>0.000067</td>\n",
              "      <td>0.000056</td>\n",
              "    </tr>\n",
              "    <tr>\n",
              "      <th>TSLA</th>\n",
              "      <td>0.000105</td>\n",
              "      <td>0.000109</td>\n",
              "      <td>0.000051</td>\n",
              "      <td>0.000199</td>\n",
              "      <td>0.000056</td>\n",
              "      <td>0.000229</td>\n",
              "    </tr>\n",
              "  </tbody>\n",
              "</table>\n",
              "</div>"
            ],
            "text/plain": [
              "          AAPL      AMZN      BABA       NIO       SPY      TSLA\n",
              "AAPL  0.000172  0.000106  0.000084  0.000164  0.000086  0.000105\n",
              "AMZN  0.000106  0.000156  0.000104  0.000198  0.000072  0.000109\n",
              "BABA  0.000084  0.000104  0.000778  0.000438  0.000036  0.000051\n",
              "NIO   0.000164  0.000198  0.000438  0.000766  0.000110  0.000199\n",
              "SPY   0.000086  0.000072  0.000036  0.000110  0.000067  0.000056\n",
              "TSLA  0.000105  0.000109  0.000051  0.000199  0.000056  0.000229"
            ]
          },
          "metadata": {},
          "execution_count": 10
        }
      ]
    },
    {
      "cell_type": "code",
      "metadata": {
        "id": "ptgKxiELuXOg"
      },
      "source": [
        "portfolio_return = []\n",
        "portfolio_volatility = []\n",
        "portfolio_weights = []\n",
        "\n",
        "num_assets = len(log_returns.columns)"
      ],
      "execution_count": 11,
      "outputs": []
    },
    {
      "cell_type": "code",
      "metadata": {
        "id": "xI3mcBcYwvlq"
      },
      "source": [
        "for sim in range(simulations):\n",
        "\n",
        "#-----for long positions only!------------\n",
        "  #weights = np.random.random(num_assets)\n",
        "  #weights = weights / np.sum(weights)\n",
        "  #portfolio_weights.append(weights)\n",
        "\n",
        "#-----------for long and short positons!_------------------\n",
        "  w_pos = np.random.uniform(0, 1, int(np.floor(num_assets/2)))\n",
        "  w_pos = w_pos / w_pos.sum() #standardization of positive values\n",
        "\n",
        "  w_neg = np.random.uniform(-1, 0, int(np.ceil(num_assets/2)))\n",
        "  w_neg = w_neg - w_neg.mean() #standardization of negative values\n",
        "\n",
        "  weights = np.concatenate([w_pos, w_neg])\n",
        "  np.random.shuffle(weights)\n",
        "  \n",
        "  portfolio_weights.append(weights)\n",
        "\n",
        "  returns = np.sum(weights * mean)\n",
        "  portfolio_return.append(returns)\n",
        "\n",
        "  variance = np.dot(weights,np.dot(covariance,weights))\n",
        "  \n",
        "  SD = np.sqrt(variance)\n",
        "  portfolio_volatility.append(SD)"
      ],
      "execution_count": 12,
      "outputs": []
    },
    {
      "cell_type": "code",
      "metadata": {
        "colab": {
          "base_uri": "https://localhost:8080/"
        },
        "id": "f1Eb2Zfl8cdw",
        "outputId": "d2ac27a7-244c-41db-ed14-4b6a68246aa5"
      },
      "source": [
        "print(weights.sum(), weights.max(), weights.min())\n",
        "print(weights)"
      ],
      "execution_count": 13,
      "outputs": [
        {
          "output_type": "stream",
          "name": "stdout",
          "text": [
            "1.0 0.5542976132747395 -0.48576392325846535\n",
            "[ 0.36153298  0.08416941  0.33818652 -0.48576392  0.14757741  0.55429761]\n"
          ]
        }
      ]
    },
    {
      "cell_type": "code",
      "metadata": {
        "id": "fNubpwLONH4m"
      },
      "source": [
        "portfolio_w = pd.DataFrame(portfolio_weights)"
      ],
      "execution_count": 14,
      "outputs": []
    },
    {
      "cell_type": "code",
      "metadata": {
        "colab": {
          "base_uri": "https://localhost:8080/",
          "height": 997
        },
        "id": "k3HgLZNTOV0e",
        "outputId": "cb2437e2-eb28-4ff1-a3df-0af72579732a"
      },
      "source": [
        "portfolio_w.hist(bins = 8,figsize=(20,15))\n"
      ],
      "execution_count": 15,
      "outputs": [
        {
          "output_type": "execute_result",
          "data": {
            "text/plain": [
              "array([[<matplotlib.axes._subplots.AxesSubplot object at 0x7fbd6296ccd0>,\n",
              "        <matplotlib.axes._subplots.AxesSubplot object at 0x7fbd629323d0>],\n",
              "       [<matplotlib.axes._subplots.AxesSubplot object at 0x7fbd62a66a50>,\n",
              "        <matplotlib.axes._subplots.AxesSubplot object at 0x7fbd62a2a110>],\n",
              "       [<matplotlib.axes._subplots.AxesSubplot object at 0x7fbd629dd790>,\n",
              "        <matplotlib.axes._subplots.AxesSubplot object at 0x7fbd628d5e10>]],\n",
              "      dtype=object)"
            ]
          },
          "metadata": {},
          "execution_count": 15
        },
        {
          "output_type": "display_data",
          "data": {
            "image/png": "[encoded data removed]",
            "text/plain": [
              "<Figure size 1440x1080 with 6 Axes>"
            ]
          },
          "metadata": {
            "needs_background": "light"
          }
        }
      ]
    },
    {
      "cell_type": "code",
      "metadata": {
        "id": "pC3GO6ew0y8r"
      },
      "source": [
        "data = {'Returns': portfolio_return, 'Volatility': portfolio_volatility}\n"
      ],
      "execution_count": 16,
      "outputs": []
    },
    {
      "cell_type": "code",
      "metadata": {
        "id": "rYw9Ju5I6_qz"
      },
      "source": [
        "for a, b in enumerate(log_returns.columns.tolist()):\n",
        "  data[b+' weight'] = [w[a] for w in portfolio_weights]"
      ],
      "execution_count": 17,
      "outputs": []
    },
    {
      "cell_type": "code",
      "metadata": {
        "colab": {
          "base_uri": "https://localhost:8080/",
          "height": 203
        },
        "id": "fybN0GF37DSU",
        "outputId": "335be1b9-f6c5-43ae-9bf9-b946ffdae133"
      },
      "source": [
        "portfolio = pd.DataFrame(data)\n",
        "portfolio.head()"
      ],
      "execution_count": 18,
      "outputs": [
        {
          "output_type": "execute_result",
          "data": {
            "text/html": [
              "<div>\n",
              "<style scoped>\n",
              "    .dataframe tbody tr th:only-of-type {\n",
              "        vertical-align: middle;\n",
              "    }\n",
              "\n",
              "    .dataframe tbody tr th {\n",
              "        vertical-align: top;\n",
              "    }\n",
              "\n",
              "    .dataframe thead th {\n",
              "        text-align: right;\n",
              "    }\n",
              "</style>\n",
              "<table border=\"1\" class=\"dataframe\">\n",
              "  <thead>\n",
              "    <tr style=\"text-align: right;\">\n",
              "      <th></th>\n",
              "      <th>Returns</th>\n",
              "      <th>Volatility</th>\n",
              "      <th>AAPL weight</th>\n",
              "      <th>AMZN weight</th>\n",
              "      <th>BABA weight</th>\n",
              "      <th>NIO weight</th>\n",
              "      <th>SPY weight</th>\n",
              "      <th>TSLA weight</th>\n",
              "    </tr>\n",
              "  </thead>\n",
              "  <tbody>\n",
              "    <tr>\n",
              "      <th>0</th>\n",
              "      <td>0.000838</td>\n",
              "      <td>0.013368</td>\n",
              "      <td>0.340891</td>\n",
              "      <td>0.483366</td>\n",
              "      <td>-0.282461</td>\n",
              "      <td>-0.058429</td>\n",
              "      <td>0.419753</td>\n",
              "      <td>0.096880</td>\n",
              "    </tr>\n",
              "    <tr>\n",
              "      <th>1</th>\n",
              "      <td>-0.001029</td>\n",
              "      <td>0.019609</td>\n",
              "      <td>0.311665</td>\n",
              "      <td>0.298381</td>\n",
              "      <td>0.299297</td>\n",
              "      <td>0.389954</td>\n",
              "      <td>0.052855</td>\n",
              "      <td>-0.352152</td>\n",
              "    </tr>\n",
              "    <tr>\n",
              "      <th>2</th>\n",
              "      <td>0.000942</td>\n",
              "      <td>0.015398</td>\n",
              "      <td>0.257513</td>\n",
              "      <td>-0.015948</td>\n",
              "      <td>0.600800</td>\n",
              "      <td>-0.241565</td>\n",
              "      <td>0.355100</td>\n",
              "      <td>0.044099</td>\n",
              "    </tr>\n",
              "    <tr>\n",
              "      <th>3</th>\n",
              "      <td>0.002867</td>\n",
              "      <td>0.011116</td>\n",
              "      <td>0.065604</td>\n",
              "      <td>0.066126</td>\n",
              "      <td>0.316043</td>\n",
              "      <td>-0.131730</td>\n",
              "      <td>0.259620</td>\n",
              "      <td>0.424337</td>\n",
              "    </tr>\n",
              "    <tr>\n",
              "      <th>4</th>\n",
              "      <td>0.002346</td>\n",
              "      <td>0.018463</td>\n",
              "      <td>0.428297</td>\n",
              "      <td>0.146797</td>\n",
              "      <td>0.286236</td>\n",
              "      <td>0.272641</td>\n",
              "      <td>-0.433034</td>\n",
              "      <td>0.299062</td>\n",
              "    </tr>\n",
              "  </tbody>\n",
              "</table>\n",
              "</div>"
            ],
            "text/plain": [
              "    Returns  Volatility  AAPL weight  ...  NIO weight  SPY weight  TSLA weight\n",
              "0  0.000838    0.013368     0.340891  ...   -0.058429    0.419753     0.096880\n",
              "1 -0.001029    0.019609     0.311665  ...    0.389954    0.052855    -0.352152\n",
              "2  0.000942    0.015398     0.257513  ...   -0.241565    0.355100     0.044099\n",
              "3  0.002867    0.011116     0.065604  ...   -0.131730    0.259620     0.424337\n",
              "4  0.002346    0.018463     0.428297  ...    0.272641   -0.433034     0.299062\n",
              "\n",
              "[5 rows x 8 columns]"
            ]
          },
          "metadata": {},
          "execution_count": 18
        }
      ]
    },
    {
      "cell_type": "code",
      "metadata": {
        "colab": {
          "base_uri": "https://localhost:8080/"
        },
        "id": "jS_HKTqs8a4R",
        "outputId": "090e3071-07ab-4abe-9533-5d9fa81298ec"
      },
      "source": [
        "min_volatility = portfolio.iloc[portfolio['Volatility'].idxmin()]\n",
        "min_volatility"
      ],
      "execution_count": 19,
      "outputs": [
        {
          "output_type": "execute_result",
          "data": {
            "text/plain": [
              "Returns        0.001987\n",
              "Volatility     0.008195\n",
              "AAPL weight    0.102099\n",
              "AMZN weight   -0.174525\n",
              "BABA weight    0.147461\n",
              "NIO weight    -0.152545\n",
              "SPY weight     0.750440\n",
              "TSLA weight    0.327070\n",
              "Name: 4771, dtype: float64"
            ]
          },
          "metadata": {},
          "execution_count": 19
        }
      ]
    },
    {
      "cell_type": "code",
      "metadata": {
        "colab": {
          "base_uri": "https://localhost:8080/"
        },
        "id": "SlRCfum09GgM",
        "outputId": "0a297680-ead9-4e63-cb3e-a56af89ae577"
      },
      "source": [
        "max_return = portfolio.iloc[portfolio['Returns'].idxmax()]\n",
        "max_return"
      ],
      "execution_count": 20,
      "outputs": [
        {
          "output_type": "execute_result",
          "data": {
            "text/plain": [
              "Returns        0.005854\n",
              "Volatility     0.016729\n",
              "AAPL weight    0.005153\n",
              "AMZN weight    0.095963\n",
              "BABA weight    0.223691\n",
              "NIO weight     0.023513\n",
              "SPY weight    -0.319654\n",
              "TSLA weight    0.971334\n",
              "Name: 4767, dtype: float64"
            ]
          },
          "metadata": {},
          "execution_count": 20
        }
      ]
    },
    {
      "cell_type": "code",
      "metadata": {
        "colab": {
          "base_uri": "https://localhost:8080/"
        },
        "id": "Tn3UGaMIAXmb",
        "outputId": "4cc67889-4e07-49ba-82a7-760fe0ece729"
      },
      "source": [
        "rf = 0\n",
        "sharpe_ratio = portfolio.iloc[((portfolio['Returns'] - rf) / portfolio['Volatility']).idxmax()]\n",
        "sharpe_ratio"
      ],
      "execution_count": 21,
      "outputs": [
        {
          "output_type": "execute_result",
          "data": {
            "text/plain": [
              "Returns        0.004344\n",
              "Volatility     0.010640\n",
              "AAPL weight   -0.128799\n",
              "AMZN weight    0.038398\n",
              "BABA weight    0.240262\n",
              "NIO weight    -0.303250\n",
              "SPY weight     0.432048\n",
              "TSLA weight    0.721340\n",
              "Name: 1970, dtype: float64"
            ]
          },
          "metadata": {},
          "execution_count": 21
        }
      ]
    },
    {
      "cell_type": "code",
      "metadata": {
        "colab": {
          "base_uri": "https://localhost:8080/",
          "height": 609
        },
        "id": "0ZkMYoH_9l6P",
        "outputId": "df92747d-908a-4d46-ab9d-b590d9055082"
      },
      "source": [
        "plt.subplots(figsize=(20,10))\n",
        "plt.scatter(portfolio['Volatility'], portfolio['Returns'], color = 'grey')\n",
        "\n",
        "plt.scatter(min_volatility[1], min_volatility[0], color = 'red', marker = 'X', s = 150)\n",
        "plt.text(min_volatility[1], min_volatility[0], 'Min_Risk', color = 'red', fontsize=12)\n",
        "\n",
        "plt.scatter(max_return[1], max_return[0], color = 'green', marker = 'X', s = 150)\n",
        "plt.text(max_return[1], max_return[0],'Max_Return', color = 'green',fontsize = 12)\n",
        "\n",
        "plt.scatter(sharpe_ratio[1], sharpe_ratio[0], color = 'blue', marker = 'X', s = 150)\n",
        "plt.text(sharpe_ratio[1], sharpe_ratio[0],'Sharpe_Ratio',color='blue',fontsize=12)"
      ],
      "execution_count": 22,
      "outputs": [
        {
          "output_type": "execute_result",
          "data": {
            "text/plain": [
              "Text(0.010640221609380563, 0.004344251555599242, 'Sharpe_Ratio')"
            ]
          },
          "metadata": {},
          "execution_count": 22
        },
        {
          "output_type": "display_data",
          "data": {
            "image/png": "[encoded data removed]",
            "text/plain": [
              "<Figure size 1440x720 with 1 Axes>"
            ]
          },
          "metadata": {
            "needs_background": "light"
          }
        }
      ]
    },
    {
      "cell_type": "code",
      "metadata": {
        "id": "ecpexwR_AID1"
      },
      "source": [
        "last_prices = close_price.tail(1)"
      ],
      "execution_count": 23,
      "outputs": []
    },
    {
      "cell_type": "code",
      "metadata": {
        "id": "HtusHeOKDOx7"
      },
      "source": [
        "min_volatility_port = pd.DataFrame(min_volatility)\n",
        "max_return_port = pd.DataFrame(max_return)\n",
        "sharpe_ratio_port = pd.DataFrame(sharpe_ratio)"
      ],
      "execution_count": 24,
      "outputs": []
    },
    {
      "cell_type": "code",
      "metadata": {
        "id": "Okqqw3FME9do"
      },
      "source": [
        "combined = pd.concat([min_volatility_port, max_return_port, sharpe_ratio_port], axis = 1)\n",
        "combined.columns = ['min_Risk', 'max_Return', 'max_Sharpe']"
      ],
      "execution_count": 25,
      "outputs": []
    },
    {
      "cell_type": "code",
      "metadata": {
        "colab": {
          "base_uri": "https://localhost:8080/",
          "height": 295
        },
        "id": "35XbHbjrIXhL",
        "outputId": "392804c2-a3ab-42e6-f0ff-fcc53eb75c79"
      },
      "source": [
        "combined"
      ],
      "execution_count": 26,
      "outputs": [
        {
          "output_type": "execute_result",
          "data": {
            "text/html": [
              "<div>\n",
              "<style scoped>\n",
              "    .dataframe tbody tr th:only-of-type {\n",
              "        vertical-align: middle;\n",
              "    }\n",
              "\n",
              "    .dataframe tbody tr th {\n",
              "        vertical-align: top;\n",
              "    }\n",
              "\n",
              "    .dataframe thead th {\n",
              "        text-align: right;\n",
              "    }\n",
              "</style>\n",
              "<table border=\"1\" class=\"dataframe\">\n",
              "  <thead>\n",
              "    <tr style=\"text-align: right;\">\n",
              "      <th></th>\n",
              "      <th>min_Risk</th>\n",
              "      <th>max_Return</th>\n",
              "      <th>max_Sharpe</th>\n",
              "    </tr>\n",
              "  </thead>\n",
              "  <tbody>\n",
              "    <tr>\n",
              "      <th>Returns</th>\n",
              "      <td>0.001987</td>\n",
              "      <td>0.005854</td>\n",
              "      <td>0.004344</td>\n",
              "    </tr>\n",
              "    <tr>\n",
              "      <th>Volatility</th>\n",
              "      <td>0.008195</td>\n",
              "      <td>0.016729</td>\n",
              "      <td>0.010640</td>\n",
              "    </tr>\n",
              "    <tr>\n",
              "      <th>AAPL weight</th>\n",
              "      <td>0.102099</td>\n",
              "      <td>0.005153</td>\n",
              "      <td>-0.128799</td>\n",
              "    </tr>\n",
              "    <tr>\n",
              "      <th>AMZN weight</th>\n",
              "      <td>-0.174525</td>\n",
              "      <td>0.095963</td>\n",
              "      <td>0.038398</td>\n",
              "    </tr>\n",
              "    <tr>\n",
              "      <th>BABA weight</th>\n",
              "      <td>0.147461</td>\n",
              "      <td>0.223691</td>\n",
              "      <td>0.240262</td>\n",
              "    </tr>\n",
              "    <tr>\n",
              "      <th>NIO weight</th>\n",
              "      <td>-0.152545</td>\n",
              "      <td>0.023513</td>\n",
              "      <td>-0.303250</td>\n",
              "    </tr>\n",
              "    <tr>\n",
              "      <th>SPY weight</th>\n",
              "      <td>0.750440</td>\n",
              "      <td>-0.319654</td>\n",
              "      <td>0.432048</td>\n",
              "    </tr>\n",
              "    <tr>\n",
              "      <th>TSLA weight</th>\n",
              "      <td>0.327070</td>\n",
              "      <td>0.971334</td>\n",
              "      <td>0.721340</td>\n",
              "    </tr>\n",
              "  </tbody>\n",
              "</table>\n",
              "</div>"
            ],
            "text/plain": [
              "             min_Risk  max_Return  max_Sharpe\n",
              "Returns      0.001987    0.005854    0.004344\n",
              "Volatility   0.008195    0.016729    0.010640\n",
              "AAPL weight  0.102099    0.005153   -0.128799\n",
              "AMZN weight -0.174525    0.095963    0.038398\n",
              "BABA weight  0.147461    0.223691    0.240262\n",
              "NIO weight  -0.152545    0.023513   -0.303250\n",
              "SPY weight   0.750440   -0.319654    0.432048\n",
              "TSLA weight  0.327070    0.971334    0.721340"
            ]
          },
          "metadata": {},
          "execution_count": 26
        }
      ]
    },
    {
      "cell_type": "code",
      "metadata": {
        "id": "HZ8P766CJKmU"
      },
      "source": [
        "quantities = combined.iloc[2:]\n",
        "q=quantities.reset_index(drop=False)"
      ],
      "execution_count": 27,
      "outputs": []
    },
    {
      "cell_type": "code",
      "metadata": {
        "id": "7aqxdPe3KuxT"
      },
      "source": [
        "a=last_prices.transpose().reset_index(drop=True)"
      ],
      "execution_count": 28,
      "outputs": []
    },
    {
      "cell_type": "code",
      "metadata": {
        "id": "10NYg_dAS2fP"
      },
      "source": [
        "df=pd.concat([quantities.reset_index(drop=False),last_prices.transpose().reset_index(drop=True)],axis=1)"
      ],
      "execution_count": 29,
      "outputs": []
    },
    {
      "cell_type": "code",
      "metadata": {
        "colab": {
          "base_uri": "https://localhost:8080/",
          "height": 265
        },
        "id": "VKzNMWgbThZW",
        "outputId": "2fb09d2f-b22b-4c79-d6df-dde1ce842b76"
      },
      "source": [
        "df.columns = [*df.columns[:-1], 'Last_Price']\n",
        "df.set_index('index')"
      ],
      "execution_count": 30,
      "outputs": [
        {
          "output_type": "execute_result",
          "data": {
            "text/html": [
              "<div>\n",
              "<style scoped>\n",
              "    .dataframe tbody tr th:only-of-type {\n",
              "        vertical-align: middle;\n",
              "    }\n",
              "\n",
              "    .dataframe tbody tr th {\n",
              "        vertical-align: top;\n",
              "    }\n",
              "\n",
              "    .dataframe thead th {\n",
              "        text-align: right;\n",
              "    }\n",
              "</style>\n",
              "<table border=\"1\" class=\"dataframe\">\n",
              "  <thead>\n",
              "    <tr style=\"text-align: right;\">\n",
              "      <th></th>\n",
              "      <th>min_Risk</th>\n",
              "      <th>max_Return</th>\n",
              "      <th>max_Sharpe</th>\n",
              "      <th>Last_Price</th>\n",
              "    </tr>\n",
              "    <tr>\n",
              "      <th>index</th>\n",
              "      <th></th>\n",
              "      <th></th>\n",
              "      <th></th>\n",
              "      <th></th>\n",
              "    </tr>\n",
              "  </thead>\n",
              "  <tbody>\n",
              "    <tr>\n",
              "      <th>AAPL weight</th>\n",
              "      <td>0.102099</td>\n",
              "      <td>0.005153</td>\n",
              "      <td>-0.128799</td>\n",
              "      <td>149.479996</td>\n",
              "    </tr>\n",
              "    <tr>\n",
              "      <th>AMZN weight</th>\n",
              "      <td>-0.174525</td>\n",
              "      <td>0.095963</td>\n",
              "      <td>0.038398</td>\n",
              "      <td>3435.010010</td>\n",
              "    </tr>\n",
              "    <tr>\n",
              "      <th>BABA weight</th>\n",
              "      <td>0.147461</td>\n",
              "      <td>0.223691</td>\n",
              "      <td>0.240262</td>\n",
              "      <td>177.419998</td>\n",
              "    </tr>\n",
              "    <tr>\n",
              "      <th>NIO weight</th>\n",
              "      <td>-0.152545</td>\n",
              "      <td>0.023513</td>\n",
              "      <td>-0.303250</td>\n",
              "      <td>39.970001</td>\n",
              "    </tr>\n",
              "    <tr>\n",
              "      <th>SPY weight</th>\n",
              "      <td>0.750440</td>\n",
              "      <td>-0.319654</td>\n",
              "      <td>0.432048</td>\n",
              "      <td>453.589996</td>\n",
              "    </tr>\n",
              "    <tr>\n",
              "      <th>TSLA weight</th>\n",
              "      <td>0.327070</td>\n",
              "      <td>0.971334</td>\n",
              "      <td>0.721340</td>\n",
              "      <td>894.000000</td>\n",
              "    </tr>\n",
              "  </tbody>\n",
              "</table>\n",
              "</div>"
            ],
            "text/plain": [
              "             min_Risk  max_Return  max_Sharpe   Last_Price\n",
              "index                                                     \n",
              "AAPL weight  0.102099    0.005153   -0.128799   149.479996\n",
              "AMZN weight -0.174525    0.095963    0.038398  3435.010010\n",
              "BABA weight  0.147461    0.223691    0.240262   177.419998\n",
              "NIO weight  -0.152545    0.023513   -0.303250    39.970001\n",
              "SPY weight   0.750440   -0.319654    0.432048   453.589996\n",
              "TSLA weight  0.327070    0.971334    0.721340   894.000000"
            ]
          },
          "metadata": {},
          "execution_count": 30
        }
      ]
    },
    {
      "cell_type": "code",
      "metadata": {
        "id": "_oiPllqjJc18"
      },
      "source": [
        "for i in df.iterrows():\n",
        "  risk_q = (kapital*df.min_Risk)/df.Last_Price\n",
        "  risk_q = pd.DataFrame(risk_q)\n",
        "  return_q = (kapital*df.max_Return)/df.Last_Price\n",
        "  sharpe_q = (kapital*df.max_Sharpe)/df.Last_Price"
      ],
      "execution_count": 31,
      "outputs": []
    },
    {
      "cell_type": "code",
      "metadata": {
        "id": "YG9EQbgXW6rA"
      },
      "source": [
        "stock_q = pd.concat([risk_q,return_q,sharpe_q], axis=1)\n",
        "stock_q.columns = [name for name in combined.columns]"
      ],
      "execution_count": 32,
      "outputs": []
    },
    {
      "cell_type": "code",
      "metadata": {
        "id": "80MGTsOKZ1On"
      },
      "source": [
        "name = []\n",
        "for i in log_returns.columns:\n",
        "  ime = i\n",
        "  name.append(ime)\n",
        "  all_q=pd.DataFrame(name)\n",
        "  "
      ],
      "execution_count": 33,
      "outputs": []
    },
    {
      "cell_type": "code",
      "metadata": {
        "colab": {
          "base_uri": "https://localhost:8080/",
          "height": 265
        },
        "id": "SGxrEkBIa1CS",
        "outputId": "996e013e-4280-4d4a-9b10-a3885a4fc052"
      },
      "source": [
        "final=pd.concat([stock_q,all_q], axis=1)\n",
        "final.columns = [*final.columns[:-1], 'Stock']\n",
        "final.set_index('Stock')"
      ],
      "execution_count": 34,
      "outputs": [
        {
          "output_type": "execute_result",
          "data": {
            "text/html": [
              "<div>\n",
              "<style scoped>\n",
              "    .dataframe tbody tr th:only-of-type {\n",
              "        vertical-align: middle;\n",
              "    }\n",
              "\n",
              "    .dataframe tbody tr th {\n",
              "        vertical-align: top;\n",
              "    }\n",
              "\n",
              "    .dataframe thead th {\n",
              "        text-align: right;\n",
              "    }\n",
              "</style>\n",
              "<table border=\"1\" class=\"dataframe\">\n",
              "  <thead>\n",
              "    <tr style=\"text-align: right;\">\n",
              "      <th></th>\n",
              "      <th>min_Risk</th>\n",
              "      <th>max_Return</th>\n",
              "      <th>max_Sharpe</th>\n",
              "    </tr>\n",
              "    <tr>\n",
              "      <th>Stock</th>\n",
              "      <th></th>\n",
              "      <th></th>\n",
              "      <th></th>\n",
              "    </tr>\n",
              "  </thead>\n",
              "  <tbody>\n",
              "    <tr>\n",
              "      <th>AAPL</th>\n",
              "      <td>6.830281</td>\n",
              "      <td>0.344726</td>\n",
              "      <td>-8.616445</td>\n",
              "    </tr>\n",
              "    <tr>\n",
              "      <th>AMZN</th>\n",
              "      <td>-0.508077</td>\n",
              "      <td>0.279367</td>\n",
              "      <td>0.111784</td>\n",
              "    </tr>\n",
              "    <tr>\n",
              "      <th>BABA</th>\n",
              "      <td>8.311415</td>\n",
              "      <td>12.607983</td>\n",
              "      <td>13.541975</td>\n",
              "    </tr>\n",
              "    <tr>\n",
              "      <th>NIO</th>\n",
              "      <td>-38.164787</td>\n",
              "      <td>5.882695</td>\n",
              "      <td>-75.869339</td>\n",
              "    </tr>\n",
              "    <tr>\n",
              "      <th>SPY</th>\n",
              "      <td>16.544453</td>\n",
              "      <td>-7.047194</td>\n",
              "      <td>9.525086</td>\n",
              "    </tr>\n",
              "    <tr>\n",
              "      <th>TSLA</th>\n",
              "      <td>3.658496</td>\n",
              "      <td>10.865032</td>\n",
              "      <td>8.068685</td>\n",
              "    </tr>\n",
              "  </tbody>\n",
              "</table>\n",
              "</div>"
            ],
            "text/plain": [
              "        min_Risk  max_Return  max_Sharpe\n",
              "Stock                                   \n",
              "AAPL    6.830281    0.344726   -8.616445\n",
              "AMZN   -0.508077    0.279367    0.111784\n",
              "BABA    8.311415   12.607983   13.541975\n",
              "NIO   -38.164787    5.882695  -75.869339\n",
              "SPY    16.544453   -7.047194    9.525086\n",
              "TSLA    3.658496   10.865032    8.068685"
            ]
          },
          "metadata": {},
          "execution_count": 34
        }
      ]
    },
    {
      "cell_type": "code",
      "metadata": {
        "id": "4c19qLAkQ7Ql"
      },
      "source": [
        "c = [' moje ime je curi muri iz afrike ? ']"
      ],
      "execution_count": 35,
      "outputs": []
    },
    {
      "cell_type": "code",
      "metadata": {
        "colab": {
          "base_uri": "https://localhost:8080/"
        },
        "id": "KshfZDHXRuni",
        "outputId": "a73dcc63-d0c0-42f5-dd45-41f18fba97f8"
      },
      "source": [
        "k = []\n",
        "for i in c:\n",
        "  f=i.replace(' ','')\n",
        "  k.append(f)\n",
        "  \n",
        "  print(c)\n",
        "  print(k)"
      ],
      "execution_count": 36,
      "outputs": [
        {
          "output_type": "stream",
          "name": "stdout",
          "text": [
            "[' moje ime je curi muri iz afrike ? ']\n",
            "['mojeimejecurimuriizafrike?']\n"
          ]
        }
      ]
    },
    {
      "cell_type": "code",
      "metadata": {
        "colab": {
          "base_uri": "https://localhost:8080/"
        },
        "id": "cUlax4YkXKQJ",
        "outputId": "92ced5b7-1713-4eaa-d836-11dbbb588266"
      },
      "source": [
        "neg = np.random.uniform(-1, 0, int(np.ceil(num_assets/2)))\n",
        "neg = neg - neg.mean()\n",
        "neg"
      ],
      "execution_count": 37,
      "outputs": [
        {
          "output_type": "execute_result",
          "data": {
            "text/plain": [
              "array([ 0.32566924, -0.21965519, -0.10601405])"
            ]
          },
          "metadata": {},
          "execution_count": 37
        }
      ]
    }
  ]
}